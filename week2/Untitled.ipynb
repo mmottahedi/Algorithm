{
 "cells": [
  {
   "cell_type": "code",
   "execution_count": 20,
   "metadata": {
    "collapsed": true
   },
   "outputs": [],
   "source": [
    "import pandas as pd \n",
    "import numpy as np \n",
    "\n",
    "import sys\n",
    "# sys.setrecursionlimit(50)"
   ]
  },
  {
   "cell_type": "code",
   "execution_count": 22,
   "metadata": {
    "collapsed": false
   },
   "outputs": [
    {
     "data": {
      "text/plain": [
       "(10000,)"
      ]
     },
     "execution_count": 22,
     "metadata": {},
     "output_type": "execute_result"
    }
   ],
   "source": [
    "dat = pd.read_table('_32387ba40b36359a38625cbb397eee65_QuickSort.txt', names = ['number'])\n",
    "dat.head(5)\n",
    "\n",
    "l = dat.values.flatten()\n",
    "l.shape"
   ]
  },
  {
   "cell_type": "code",
   "execution_count": 25,
   "metadata": {
    "collapsed": false,
    "scrolled": true
   },
   "outputs": [
    {
     "data": {
      "text/plain": [
       "[5, 9, 1, 12, 11, 10, 2, 3, 4, 6, 7]"
      ]
     },
     "execution_count": 25,
     "metadata": {},
     "output_type": "execute_result"
    }
   ],
   "source": [
    "def quickSort(A, p, r):\n",
    "    if p < r:\n",
    "        q = partition(A, p, r)\n",
    "        print(\"recursive call\", A, q, A[:q], A[q+1:])\n",
    "        quickSort(A, q+1, r); quickSort(A, p, q-1)\n",
    "    return A\n",
    "        \n",
    "\n",
    "def partition(A, p, r):\n",
    "    x = A[p]\n",
    "    i = p \n",
    "    for j in range(p + 1, r):       \n",
    "        if (A[j] <= x):\n",
    "            i += 1\n",
    "            A[i] , A[j] = A[j], A[i]\n",
    "#             print('i=',i,'j=', j, A)\n",
    "    A.insert(i, A.pop(0)) \n",
    "    return i\n",
    "\n",
    "\n",
    "A = [5,9,1,12,11,10,2,3,4,6,7]\n",
    "quickSort(A, 0, len(A))\n",
    "# partition(A, 0, len(A))"
   ]
  },
  {
   "cell_type": "markdown",
   "metadata": {},
   "source": [
    "#The file contains all of the integers between 1 and 10,000 (inclusive) \n",
    "#in unsorted order (with no integer repeated). \n",
    "#The integer in the ith row of the file gives you the ith entry of an input array.\n",
    "#Your task is to compute the total number of comparisons used to sort the given input file by QuickSort. \n",
    "#As you know, the number of comparisons depends on which elements are chosen as pivots, \n",
    "#so we'll ask you to explore three different pivoting rules.\n",
    "#You should not count comparisons one-by-one.\n",
    "#For the first part of the programming assignment, \n",
    "#you should always use the first element of the array as the pivot element. "
   ]
  },
  {
   "cell_type": "code",
   "execution_count": 27,
   "metadata": {
    "collapsed": false
   },
   "outputs": [
    {
     "ename": "ValueError",
     "evalue": "too many values to unpack (expected 2)",
     "output_type": "error",
     "traceback": [
      "\u001b[1;31m---------------------------------------------------------------------------\u001b[0m",
      "\u001b[1;31mValueError\u001b[0m                                Traceback (most recent call last)",
      "\u001b[1;32m<ipython-input-27-aa9ebac1ec46>\u001b[0m in \u001b[0;36m<module>\u001b[1;34m()\u001b[0m\n\u001b[0;32m     27\u001b[0m \u001b[1;33m\u001b[0m\u001b[0m\n\u001b[0;32m     28\u001b[0m \u001b[1;31m#use any array like below to sort\u001b[0m\u001b[1;33m\u001b[0m\u001b[1;33m\u001b[0m\u001b[0m\n\u001b[1;32m---> 29\u001b[1;33m \u001b[0mscript\u001b[0m\u001b[1;33m,\u001b[0m \u001b[0mfilename\u001b[0m \u001b[1;33m=\u001b[0m \u001b[0margv\u001b[0m\u001b[1;33m\u001b[0m\u001b[0m\n\u001b[0m\u001b[0;32m     30\u001b[0m \u001b[0mA\u001b[0m \u001b[1;33m=\u001b[0m \u001b[1;33m[\u001b[0m \u001b[1;33m]\u001b[0m\u001b[1;33m\u001b[0m\u001b[0m\n\u001b[0;32m     31\u001b[0m \u001b[1;32mfor\u001b[0m \u001b[0mline\u001b[0m \u001b[1;32min\u001b[0m \u001b[0mopen\u001b[0m\u001b[1;33m(\u001b[0m\u001b[0mfilename\u001b[0m\u001b[1;33m,\u001b[0m\u001b[1;34m'r'\u001b[0m\u001b[1;33m)\u001b[0m\u001b[1;33m.\u001b[0m\u001b[0mreadlines\u001b[0m\u001b[1;33m(\u001b[0m\u001b[1;33m)\u001b[0m\u001b[1;33m:\u001b[0m\u001b[1;33m\u001b[0m\u001b[0m\n",
      "\u001b[1;31mValueError\u001b[0m: too many values to unpack (expected 2)"
     ]
    }
   ],
   "source": [
    "\n",
    "from sys import argv\n",
    "\n",
    "def quicksort(A,begin,end) :\n",
    "\tcount = 0\n",
    "\tif end - begin <= 1:\n",
    "\t\treturn 0\n",
    "\telse :\n",
    "\t\tsplit = partition(A,begin,end)\n",
    "\t\tcount = end - begin - 1\n",
    "\t\tlc = quicksort(A,begin,split)\t\t\t\t\n",
    "\t\trc = quicksort(A,split+1,end)\n",
    "\t\treturn count + lc + rc\n",
    "\t\n",
    "\n",
    "def partition(A,begin,end) :\n",
    "\tpivot = A[begin]\n",
    "\ti = begin + 1\n",
    "\n",
    "\tfor j in range(begin+1,end) :\n",
    "\t\tif A[j] < pivot :\t\t\t\t\t\n",
    "\t\t\tA[i], A[j] = A[j], A[i]\n",
    "\t\t\ti = i + 1\t\t\t\n",
    "\t\t\t\n",
    "\tA[i-1], A[begin] = A[begin], A[i-1]\n",
    "\treturn i-1\n",
    "\t\n",
    "#use any array like below to sort\n",
    "script, filename = argv\n",
    "A = [ ]\n",
    "for line in open(filename,'r').readlines():\t\n",
    "\tA.append(int(line))\n",
    "\n",
    "print( len(A))\n",
    "print(quicksort(A,0,len(A)))\n"
   ]
  },
  {
   "cell_type": "code",
   "execution_count": 6,
   "metadata": {
    "collapsed": false
   },
   "outputs": [
    {
     "data": {
      "text/plain": [
       "[9262255]"
      ]
     },
     "execution_count": 6,
     "metadata": {},
     "output_type": "execute_result"
    }
   ],
   "source": [
    "sys.set"
   ]
  }
 ],
 "metadata": {
  "kernelspec": {
   "display_name": "DNN",
   "language": "python",
   "name": "dnn"
  },
  "language_info": {
   "codemirror_mode": {
    "name": "ipython",
    "version": 3
   },
   "file_extension": ".py",
   "mimetype": "text/x-python",
   "name": "python",
   "nbconvert_exporter": "python",
   "pygments_lexer": "ipython3",
   "version": "3.4.3"
  }
 },
 "nbformat": 4,
 "nbformat_minor": 0
}
